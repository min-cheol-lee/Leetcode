{
 "cells": [
  {
   "cell_type": "code",
   "execution_count": null,
   "id": "814d6c2f",
   "metadata": {},
   "outputs": [],
   "source": [
    "class Solution:\n",
    "    def lengthOfLongestSubstring(self, s: str) -> int:\n",
    "        r1 = \"\"\n",
    "        r2 = \"\"\n",
    "        N = len(s)\n",
    "        for i, letter in enumerate(s):\n",
    "            if letter not in r1:\n",
    "                r1 += letter\n",
    "            elif i == N-1:\n",
    "                break\n",
    "            else:\n",
    "                ind = r1.find(letter)\n",
    "                r1 = r1[ind+1:]+letter\n",
    "            if len(r1)>len(r2):\n",
    "                r2 = r1\n",
    "        return len(r2)\n",
    "        \"\"\"\n",
    "        :type s: str\n",
    "        :rtype: int\n",
    "        \"\"\"        "
   ]
  }
 ],
 "metadata": {
  "kernelspec": {
   "display_name": "Python 3 (ipykernel)",
   "language": "python",
   "name": "python3"
  },
  "language_info": {
   "codemirror_mode": {
    "name": "ipython",
    "version": 3
   },
   "file_extension": ".py",
   "mimetype": "text/x-python",
   "name": "python",
   "nbconvert_exporter": "python",
   "pygments_lexer": "ipython3",
   "version": "3.9.7"
  }
 },
 "nbformat": 4,
 "nbformat_minor": 5
}
