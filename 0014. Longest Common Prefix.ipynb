{
 "cells": [
  {
   "cell_type": "code",
   "execution_count": 50,
   "id": "055d9d60",
   "metadata": {},
   "outputs": [],
   "source": [
    "    from typing import List\n",
    "\n",
    "    def longestCommonPrefix(strs: List[str]) -> str:\n",
    "        wlen = len(min(strs, key=len))\n",
    "        slen = len(strs)\n",
    "        prefix =\"\"\n",
    "        \n",
    "        if len(strs[0])==0:\n",
    "            return prefix\n",
    "        elif slen==1:\n",
    "            return strs[0]\n",
    "        \n",
    "        for i in range(wlen):\n",
    "            for j in range(slen):\n",
    "                if j==0: pre = strs[j][i]\n",
    "                else:\n",
    "                    if strs[j][i]!=pre: return prefix\n",
    "            prefix += pre\n",
    "        return prefix\n",
    "\n",
    "            "
   ]
  },
  {
   "cell_type": "code",
   "execution_count": 51,
   "id": "23cffebc",
   "metadata": {},
   "outputs": [
    {
     "data": {
      "text/plain": [
       "'a'"
      ]
     },
     "execution_count": 51,
     "metadata": {},
     "output_type": "execute_result"
    }
   ],
   "source": [
    "    strs = [\"abc\", \"ab\", \"a\"]\n",
    "    longestCommonPrefix(strs)"
   ]
  },
  {
   "cell_type": "code",
   "execution_count": null,
   "id": "f8f8b22a",
   "metadata": {},
   "outputs": [],
   "source": [
    "class Solution:\n",
    "    def longestCommonPrefix(self, strs: List[str]) -> str:\n",
    "        res = []\n",
    "        idx = 0\n",
    "        \n",
    "        while idx < len(strs[0]):\n",
    "            curr = strs[0][idx]\n",
    "            for word in strs:\n",
    "                if len(word) <= idx or word[idx] != curr:\n",
    "                    return \"\".join(res)\n",
    "            idx+=1\n",
    "            res.append(curr)\n",
    "        return \"\".join(res)"
   ]
  },
  {
   "cell_type": "code",
   "execution_count": null,
   "id": "d93d06b9",
   "metadata": {},
   "outputs": [],
   "source": [
    "class Solution:\n",
    "    def longestCommonPrefix(self, strs: List[str]) -> str:\n",
    "        strs = sorted(strs, key=len)\n",
    "        result = \"\"\n",
    "        for i, val in enumerate(strs[0]):\n",
    "            for s in strs:\n",
    "                if s[i] != val:\n",
    "                    return result\n",
    "            result += s[i]\n",
    "        return result"
   ]
  }
 ],
 "metadata": {
  "kernelspec": {
   "display_name": "Python 3 (ipykernel)",
   "language": "python",
   "name": "python3"
  },
  "language_info": {
   "codemirror_mode": {
    "name": "ipython",
    "version": 3
   },
   "file_extension": ".py",
   "mimetype": "text/x-python",
   "name": "python",
   "nbconvert_exporter": "python",
   "pygments_lexer": "ipython3",
   "version": "3.9.7"
  }
 },
 "nbformat": 4,
 "nbformat_minor": 5
}
