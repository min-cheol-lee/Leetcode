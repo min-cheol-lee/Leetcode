{
 "cells": [
  {
   "cell_type": "markdown",
   "id": "0351cd3b",
   "metadata": {},
   "source": [
    "I'm pretty happy with my code despite its not-fast runtime (> 60 ms; faster than 25 % of all the accepted codes), but maybe it's not the one that fits to the purpose of the question:"
   ]
  },
  {
   "cell_type": "code",
   "execution_count": null,
   "id": "11777ca2",
   "metadata": {},
   "outputs": [],
   "source": [
    "class Solution:\n",
    "    def search(self, nums: List[int], target: int) -> int:\n",
    "        return nums.index(target) if target in nums else -1"
   ]
  },
  {
   "cell_type": "markdown",
   "id": "9aec53a5",
   "metadata": {},
   "source": [
    "Here is one of the accepted codes, using iteration to find the middle values:"
   ]
  },
  {
   "cell_type": "code",
   "execution_count": null,
   "id": "0ca04995",
   "metadata": {},
   "outputs": [],
   "source": [
    "class Solution:\n",
    "    def search(self, nums: List[int], target: int) -> int:\n",
    "        \n",
    "        left = 0\n",
    "        right = len(nums) - 1\n",
    "        index = -1\n",
    "        last = nums[-1]\n",
    "        first = nums[0]\n",
    "        \n",
    "        while left <= right:\n",
    "            middle = (right + left) // 2\n",
    "            val = nums[middle]\n",
    "            if val == target:\n",
    "                index = middle\n",
    "                break\n",
    "            \n",
    "            if val >= last:\n",
    "                if target >= first and target < val:\n",
    "                    right = middle - 1\n",
    "                else:\n",
    "                    left = middle + 1\n",
    "            else:\n",
    "                #val < last\n",
    "                if target <= last and target > val:\n",
    "                    left = middle + 1\n",
    "                else:\n",
    "                    right = middle - 1\n",
    "        \n",
    "        return index\n",
    "                \n",
    "            "
   ]
  }
 ],
 "metadata": {
  "kernelspec": {
   "display_name": "Python 3 (ipykernel)",
   "language": "python",
   "name": "python3"
  },
  "language_info": {
   "codemirror_mode": {
    "name": "ipython",
    "version": 3
   },
   "file_extension": ".py",
   "mimetype": "text/x-python",
   "name": "python",
   "nbconvert_exporter": "python",
   "pygments_lexer": "ipython3",
   "version": "3.9.7"
  }
 },
 "nbformat": 4,
 "nbformat_minor": 5
}
