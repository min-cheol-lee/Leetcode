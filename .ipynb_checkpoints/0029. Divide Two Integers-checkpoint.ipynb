{
 "cells": [
  {
   "cell_type": "markdown",
   "id": "73390518",
   "metadata": {},
   "source": [
    "Here is the code that I initially made, but it does not work with `Time Limit Exceeded` error:"
   ]
  },
  {
   "cell_type": "code",
   "execution_count": null,
   "id": "03860754",
   "metadata": {},
   "outputs": [],
   "source": [
    "class Solution:\n",
    "    def divide(self, dividend: int, divisor: int) -> int:\n",
    "        if dividend == 0:\n",
    "            return 0\n",
    "        elif dividend*divisor<0:\n",
    "            sgn = -1\n",
    "        else:\n",
    "            sgn = 1\n",
    "            \n",
    "        dividend = abs(dividend)\n",
    "        divisor = abs(divisor)\n",
    "        \n",
    "        res = 0\n",
    "        while dividend>=divisor:\n",
    "            res += 1\n",
    "            dividend -= divisor\n",
    "        if res*sgn > 2**31-1:\n",
    "            return 2**31-1\n",
    "        elif res*sgn < -2**31:\n",
    "            return -2**31\n",
    "        else:\n",
    "            return res*sgn"
   ]
  },
  {
   "cell_type": "markdown",
   "id": "4c7b3a02",
   "metadata": {},
   "source": [
    "I found the following code from the LeetCode Discussion, which works well with Runtime < 45 ms (https://leetcode.com/problems/divide-two-integers/discuss/13403/Clear-python-code). What's the difference from mine?"
   ]
  },
  {
   "cell_type": "code",
   "execution_count": null,
   "id": "095572b0",
   "metadata": {},
   "outputs": [],
   "source": [
    "class Solution:\n",
    "    def divide(self, dividend, divisor):\n",
    "        positive = (dividend < 0) is (divisor < 0)\n",
    "        dividend, divisor = abs(dividend), abs(divisor)\n",
    "        res = 0\n",
    "        while dividend >= divisor:\n",
    "            temp, i = divisor, 1\n",
    "            while dividend >= temp:\n",
    "                dividend -= temp\n",
    "                res += i\n",
    "                i <<= 1\n",
    "                temp <<= 1\n",
    "        if not positive:\n",
    "            res = -res\n",
    "        return min(max(-2147483648, res), 2147483647)"
   ]
  },
  {
   "cell_type": "markdown",
   "id": "6b63a1da",
   "metadata": {},
   "source": [
    "The point is using `<<=` for `i` and `temp`, which reduces a lot of computing time for substrating from the dividend."
   ]
  },
  {
   "cell_type": "code",
   "execution_count": null,
   "id": "3916f1ba",
   "metadata": {},
   "outputs": [],
   "source": []
  }
 ],
 "metadata": {
  "kernelspec": {
   "display_name": "Python 3 (ipykernel)",
   "language": "python",
   "name": "python3"
  },
  "language_info": {
   "codemirror_mode": {
    "name": "ipython",
    "version": 3
   },
   "file_extension": ".py",
   "mimetype": "text/x-python",
   "name": "python",
   "nbconvert_exporter": "python",
   "pygments_lexer": "ipython3",
   "version": "3.9.7"
  }
 },
 "nbformat": 4,
 "nbformat_minor": 5
}
