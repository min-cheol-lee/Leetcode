{
 "cells": [
  {
   "cell_type": "markdown",
   "id": "7aae72bd",
   "metadata": {},
   "source": [
    "Using `set`, we can make a simple code. Here, `sorted(s)` is for the case like `[-1,0,0,3,3]`, which makes `nums = [0,3,-1]` without sorting."
   ]
  },
  {
   "cell_type": "code",
   "execution_count": null,
   "id": "4fb29321",
   "metadata": {},
   "outputs": [],
   "source": [
    "class Solution:\n",
    "    def removeDuplicates(self, nums: List[int]) -> int:\n",
    "        s = set(nums)\n",
    "        nums[:len(s)] = sorted(s)\n",
    "        return len(s)"
   ]
  },
  {
   "cell_type": "markdown",
   "id": "781fb6c9",
   "metadata": {},
   "source": [
    "I found the following codes works faster (< 80 ms), compared to the above one (< 150 ms)."
   ]
  },
  {
   "cell_type": "code",
   "execution_count": null,
   "id": "219d136b",
   "metadata": {},
   "outputs": [],
   "source": [
    "class Solution:\n",
    "    def removeDuplicates(self, nums):\n",
    "        nums[:] = sorted(set(nums))\n",
    "        return len(nums)"
   ]
  },
  {
   "cell_type": "markdown",
   "id": "f2c0497a",
   "metadata": {},
   "source": [
    "Here is an example, not using `set` function."
   ]
  },
  {
   "cell_type": "code",
   "execution_count": null,
   "id": "59015678",
   "metadata": {},
   "outputs": [],
   "source": [
    "class Solution:\n",
    "    def removeDuplicates(self, nums: List[int]) -> int:\n",
    "        cnt = 0\n",
    "        \n",
    "        # Loop for all the elements in the array\n",
    "        for i in range(len(nums)):\n",
    "            \n",
    "            # If the current element is equal to the next element, we skip\n",
    "            if i < len(nums) - 1 and nums[i] == nums[i + 1]:\n",
    "                continue\n",
    "                \n",
    "            # We will update the array in place\n",
    "            nums[cnt] = nums[i]\n",
    "            cnt += 1\n",
    "        return cnt"
   ]
  }
 ],
 "metadata": {
  "kernelspec": {
   "display_name": "Python 3 (ipykernel)",
   "language": "python",
   "name": "python3"
  },
  "language_info": {
   "codemirror_mode": {
    "name": "ipython",
    "version": 3
   },
   "file_extension": ".py",
   "mimetype": "text/x-python",
   "name": "python",
   "nbconvert_exporter": "python",
   "pygments_lexer": "ipython3",
   "version": "3.9.7"
  }
 },
 "nbformat": 4,
 "nbformat_minor": 5
}
