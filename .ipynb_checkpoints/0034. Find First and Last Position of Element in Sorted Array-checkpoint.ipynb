{
 "cells": [
  {
   "cell_type": "markdown",
   "id": "ee2efedf",
   "metadata": {},
   "source": [
    "Here are my testing rounds to check the index from the reversed list, here `renums`, whether it fits well to the required ending position value. "
   ]
  },
  {
   "cell_type": "code",
   "execution_count": null,
   "id": "03b4f145",
   "metadata": {},
   "outputs": [],
   "source": [
    "nums = [5,7,7,8,8,10]\n",
    "target = 8\n",
    "\n",
    "i = nums.index(target)\n",
    "renums = sorted(nums, reverse=True)\n",
    "f = len(nums)-renums.index(target)-1\n",
    "print(\"start = {}, end = {}\".format(i,f))"
   ]
  },
  {
   "cell_type": "markdown",
   "id": "f944a46d",
   "metadata": {},
   "source": [
    "To consider the case when `target` is not in the `nums`:"
   ]
  },
  {
   "cell_type": "code",
   "execution_count": null,
   "id": "71e2bd34",
   "metadata": {},
   "outputs": [],
   "source": [
    "nums = [5,7,7,8,8,10]\n",
    "target = 6\n",
    "\n",
    "i = nums.index(target) if target in nums else -1\n",
    "renums = sorted(nums, reverse=True)\n",
    "f = len(nums)-renums.index(target)-1 if target in renums else -1\n",
    "print(\"start = {}, end = {}\".format(i,f))"
   ]
  },
  {
   "cell_type": "markdown",
   "id": "c85cfe60",
   "metadata": {},
   "source": [
    "Here is my final code submitted to LeetCode (runtime = 88 ms, faster than 60 % of other accepted codes):"
   ]
  },
  {
   "cell_type": "code",
   "execution_count": null,
   "id": "bbd46d8b",
   "metadata": {},
   "outputs": [],
   "source": [
    "class Solution:\n",
    "    def searchRange(self, nums: List[int], target: int) -> List[int]:\n",
    "        if target in nums:        \n",
    "            i = nums.index(target)\n",
    "        else: return [-1,-1]\n",
    "        renums = sorted(nums, reverse=True)\n",
    "        f = len(nums) - renums.index(target) - 1\n",
    "        return [i,f]"
   ]
  },
  {
   "cell_type": "markdown",
   "id": "9421866d",
   "metadata": {},
   "source": [
    "Another example from the accepted codes, not using `index` function:"
   ]
  },
  {
   "cell_type": "code",
   "execution_count": null,
   "id": "7d3d65c1",
   "metadata": {},
   "outputs": [],
   "source": [
    "class Solution:\n",
    "    def searchRange(self, nums: List[int], target: int) -> List[int]:\n",
    "        \n",
    "        def binarySearch(nums,start,end):\n",
    "            if start>end:\n",
    "                return -1\n",
    "            \n",
    "            mid = start + (end-start)//2\n",
    "            \n",
    "            if nums[mid] == target:\n",
    "                return mid\n",
    "            elif nums[mid]>target:\n",
    "                return binarySearch(nums,start,mid-1)\n",
    "            else:\n",
    "                return binarySearch(nums,mid+1,end)\n",
    "            \n",
    "            \n",
    "        indx = binarySearch(nums,0,len(nums)-1)\n",
    "        \n",
    "        if indx == -1:\n",
    "            return [-1,-1]\n",
    "        left_most = indx\n",
    "        right_most = indx\n",
    "        \n",
    "        while True:\n",
    "            indx = binarySearch(nums,0,indx-1)\n",
    "            \n",
    "            if indx == -1:\n",
    "                break\n",
    "                \n",
    "            left_most = indx\n",
    "        while True:\n",
    "            indx = binarySearch(nums,right_most+1,len(nums)-1)\n",
    "            \n",
    "            if indx == -1:\n",
    "                break\n",
    "            \n",
    "            right_most = indx\n",
    "        return [left_most,right_most]"
   ]
  }
 ],
 "metadata": {
  "kernelspec": {
   "display_name": "Python 3 (ipykernel)",
   "language": "python",
   "name": "python3"
  },
  "language_info": {
   "codemirror_mode": {
    "name": "ipython",
    "version": 3
   },
   "file_extension": ".py",
   "mimetype": "text/x-python",
   "name": "python",
   "nbconvert_exporter": "python",
   "pygments_lexer": "ipython3",
   "version": "3.9.7"
  }
 },
 "nbformat": 4,
 "nbformat_minor": 5
}
