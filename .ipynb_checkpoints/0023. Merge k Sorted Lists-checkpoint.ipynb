{
 "cells": [
  {
   "cell_type": "markdown",
   "id": "2792468a",
   "metadata": {},
   "source": [
    "I'm not still familiar to the ListNode stuff, so let me try to practice a little more below."
   ]
  },
  {
   "cell_type": "code",
   "execution_count": 59,
   "id": "695e836c",
   "metadata": {},
   "outputs": [
    {
     "name": "stdout",
     "output_type": "stream",
     "text": [
      "[1, 3, 4] 0\n",
      "<__main__.ListNode object at 0x000001FAF8EF2C40>\n"
     ]
    }
   ],
   "source": [
    "# Definition for singly-linked list.\n",
    "class ListNode:\n",
    "    def __init__(self, val=0, next=None):\n",
    "        self.val = val\n",
    "        self.next = next\n",
    "        \n",
    "l = ListNode([1,4,5])\n",
    "r = ListNode([1,3,4])\n",
    "\n",
    "dummy = p = ListNode()\n",
    "while l and r:\n",
    "    if l.val < r.val:\n",
    "        p.next = l\n",
    "        l = l.next\n",
    "    else:\n",
    "        p.next = r\n",
    "        r = r.next\n",
    "    p = p.next\n",
    "p.next = l or r\n",
    "print(dummy.next)"
   ]
  },
  {
   "cell_type": "markdown",
   "id": "08fd1fb8",
   "metadata": {},
   "source": [
    "It seems that there is a difference in the reading mechanism of the ListNode between this note and LeetCode. While `print(dummy.next.val)` shows here `[1,3,4]`, but it turns into just `1` when running in the LeetCode. Therefore I guess this comes from the fact that `val` operation returns the array itself in this note but the indivisual component in the LeetCode. The correct solution is shown below:"
   ]
  },
  {
   "cell_type": "code",
   "execution_count": null,
   "id": "1454f341",
   "metadata": {},
   "outputs": [],
   "source": [
    "class Solution:\n",
    "    def mergeKLists(self, lists: List[Optional[ListNode]]) -> Optional[ListNode]:\n",
    "        if not lists:\n",
    "            return None\n",
    "        if len(lists) == 1:\n",
    "            return lists[0]\n",
    "        mid = len(lists) // 2\n",
    "        l, r = self.mergeKLists(lists[:mid]), self.mergeKLists(lists[mid:])\n",
    "        return self.merge(l, r)\n",
    "    \n",
    "    def merge(self, l, r):\n",
    "        dummy = p = ListNode()\n",
    "        while l and r:\n",
    "            if l.val < r.val:\n",
    "                p.next = l\n",
    "                l = l.next\n",
    "            else:\n",
    "                p.next = r\n",
    "                r = r.next\n",
    "            p = p.next\n",
    "        p.next = l or r\n",
    "        return dummy.next"
   ]
  }
 ],
 "metadata": {
  "kernelspec": {
   "display_name": "Python 3 (ipykernel)",
   "language": "python",
   "name": "python3"
  },
  "language_info": {
   "codemirror_mode": {
    "name": "ipython",
    "version": 3
   },
   "file_extension": ".py",
   "mimetype": "text/x-python",
   "name": "python",
   "nbconvert_exporter": "python",
   "pygments_lexer": "ipython3",
   "version": "3.9.7"
  }
 },
 "nbformat": 4,
 "nbformat_minor": 5
}
