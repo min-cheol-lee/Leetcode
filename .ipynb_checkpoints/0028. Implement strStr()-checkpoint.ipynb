{
 "cells": [
  {
   "cell_type": "markdown",
   "id": "8b8394fd",
   "metadata": {},
   "source": [
    "I wrote the following code and I was pretty happy:"
   ]
  },
  {
   "cell_type": "code",
   "execution_count": null,
   "id": "d84b60a9",
   "metadata": {},
   "outputs": [],
   "source": [
    "class Solution:\n",
    "    def strStr(self, haystack: str, needle: str) -> int:\n",
    "        if needle in haystack:\n",
    "            return haystack.find(needle)\n",
    "        else:\n",
    "            return -1"
   ]
  },
  {
   "cell_type": "markdown",
   "id": "777c9969",
   "metadata": {},
   "source": [
    "However, I realized that I do not need to add `else` part, as `find()` function already returns `-1` for this case."
   ]
  },
  {
   "cell_type": "code",
   "execution_count": null,
   "id": "1aeeb9db",
   "metadata": {},
   "outputs": [],
   "source": [
    "class Solution:\n",
    "    def strStr(self, haystack: str, needle: str) -> int:\n",
    "        return haystack.find(needle)"
   ]
  }
 ],
 "metadata": {
  "kernelspec": {
   "display_name": "Python 3 (ipykernel)",
   "language": "python",
   "name": "python3"
  },
  "language_info": {
   "codemirror_mode": {
    "name": "ipython",
    "version": 3
   },
   "file_extension": ".py",
   "mimetype": "text/x-python",
   "name": "python",
   "nbconvert_exporter": "python",
   "pygments_lexer": "ipython3",
   "version": "3.9.7"
  }
 },
 "nbformat": 4,
 "nbformat_minor": 5
}
