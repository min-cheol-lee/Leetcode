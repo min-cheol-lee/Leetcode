{
 "cells": [
  {
   "cell_type": "code",
   "execution_count": null,
   "id": "d3e0ff9c",
   "metadata": {},
   "outputs": [],
   "source": [
    "\"\"\"\n",
    "class Solution:\n",
    "    def longestPalindrome(self, s: str) -> str:\n",
    "        pal_sub = \"\"\n",
    "        for i in range(len(s)):\n",
    "            pal_sub = max(self.helper(s,i,i), self.helper(s,i,i+1), pal_sub, key=len)\n",
    "        return pal_sub\n",
    "        \n",
    "    def helper(self,s:str,l:int,r:int) -> str:\n",
    "        while 0<=l and r<len(s) and s[l]==s[r]:\n",
    "                l-=1; r+=1\n",
    "        return s[l+1:r]\n",
    "\"\"\"\n",
    "class Solution:\n",
    "    \n",
    "    def longestPalindrome(self, s):\n",
    "        lenS = len(s)\n",
    "\n",
    "        if lenS <= 1:\n",
    "            return s\n",
    "        minStart, maxLen, i = 0, 1, 0\n",
    "\n",
    "        while i < lenS:\n",
    "            # think 'baaaaacaa' when its equal\n",
    "            # think 'baaaaaaacaa': -> \n",
    "            #   start from 'c' and expand to both direction\n",
    "            #   len(aacaa) is surely smaller than len(aaaaaa)\n",
    "            #   so break\n",
    "            if lenS - i <= maxLen / 2:\n",
    "                break\n",
    "\n",
    "            # set j(left),k(right) from i(center)\n",
    "            j, k = i, i\n",
    "\n",
    "            # reduce work on one char or multi identical chars\n",
    "            # eg. won't run in 'azbzc', but will run in 'azbbzc'\n",
    "            while k < lenS - 1 and s[k] == s[k + 1]:\n",
    "                k += 1\n",
    "            i = k + 1\n",
    "\n",
    "            # expand from center\n",
    "            while k < lenS - 1 and j and s[k + 1] == s[j - 1]:\n",
    "                k, j = k + 1, j - 1\n",
    "\n",
    "            # check if the current palindromic substring can replace the previous one\n",
    "            if k - j + 1 > maxLen:\n",
    "                minStart, maxLen = j, k - j + 1\n",
    "\n",
    "\n",
    "        return s[minStart: minStart + maxLen]"
   ]
  }
 ],
 "metadata": {
  "kernelspec": {
   "display_name": "Python 3 (ipykernel)",
   "language": "python",
   "name": "python3"
  },
  "language_info": {
   "codemirror_mode": {
    "name": "ipython",
    "version": 3
   },
   "file_extension": ".py",
   "mimetype": "text/x-python",
   "name": "python",
   "nbconvert_exporter": "python",
   "pygments_lexer": "ipython3",
   "version": "3.9.7"
  }
 },
 "nbformat": 4,
 "nbformat_minor": 5
}
