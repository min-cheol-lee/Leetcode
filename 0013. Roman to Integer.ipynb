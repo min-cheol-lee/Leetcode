{
 "cells": [
  {
   "cell_type": "markdown",
   "id": "408deeb4",
   "metadata": {},
   "source": [
    "See a poor solution from a newbie coder:"
   ]
  },
  {
   "cell_type": "code",
   "execution_count": null,
   "id": "50f3488b",
   "metadata": {},
   "outputs": [],
   "source": [
    "class Solution:\n",
    "    def romanToInt(self, s: str) -> int:\n",
    "        \n",
    "        num = 0\n",
    "        i=0\n",
    "        \n",
    "        while i<len(s): \n",
    "            if i==len(s)-1:\n",
    "                if s[i] == \"M\": num+=1000\n",
    "                elif s[i] == \"D\": num+=500\n",
    "                elif s[i] == \"C\": num+=100\n",
    "                elif s[i] == \"L\": num+=50\n",
    "                elif s[i] == \"X\": num+=10\n",
    "                elif s[i] == \"V\": num+=5\n",
    "                else: num+=1\n",
    "                break\n",
    "            \n",
    "            \n",
    "            if s[i] == \"M\": num += 1000\n",
    "            elif s[i] == \"D\": num += 500\n",
    "            elif s[i] == \"C\":\n",
    "                if s[i+1] == \"M\":\n",
    "                    num += 900\n",
    "                    i += 2\n",
    "                    continue\n",
    "                elif s[i+1] == \"D\":\n",
    "                    num += 400\n",
    "                    i += 2\n",
    "                    continue\n",
    "                else: num += 100\n",
    "            elif s[i] == \"L\": num += 50\n",
    "            elif s[i] == \"X\":\n",
    "                if s[i+1] == \"C\":\n",
    "                    num += 90\n",
    "                    i += 2\n",
    "                    continue\n",
    "                elif s[i+1] == \"L\":\n",
    "                    num += 40\n",
    "                    i += 2\n",
    "                    continue\n",
    "                else: num += 10\n",
    "            elif s[i] == \"V\": num += 5\n",
    "            elif s[i] == \"I\":\n",
    "                if s[i+1] == \"X\":\n",
    "                    num += 9\n",
    "                    i += 2\n",
    "                    continue\n",
    "                elif s[i+1] ==\"V\":\n",
    "                    num += 4\n",
    "                    i += 2\n",
    "                    continue\n",
    "                else: num += 1\n",
    "            i += 1\n",
    "        \n",
    "        return num"
   ]
  },
  {
   "cell_type": "markdown",
   "id": "23b626f3",
   "metadata": {},
   "source": [
    "See a great solution using Series from an experienced coder:"
   ]
  },
  {
   "cell_type": "code",
   "execution_count": null,
   "id": "a0585eaf",
   "metadata": {},
   "outputs": [],
   "source": [
    "class Solution:\n",
    "    def romanToInt(self, s):\n",
    "        roman = {'M': 1000,'D': 500 ,'C': 100,'L': 50,'X': 10,'V': 5,'I': 1}\n",
    "        z = 0\n",
    "        for i in range(0, len(s) - 1):\n",
    "            if roman[s[i]] < roman[s[i+1]]:\n",
    "                z -= roman[s[i]]\n",
    "            else:\n",
    "                z += roman[s[i]]\n",
    "        return z + roman[s[-1]]"
   ]
  }
 ],
 "metadata": {
  "kernelspec": {
   "display_name": "Python 3 (ipykernel)",
   "language": "python",
   "name": "python3"
  },
  "language_info": {
   "codemirror_mode": {
    "name": "ipython",
    "version": 3
   },
   "file_extension": ".py",
   "mimetype": "text/x-python",
   "name": "python",
   "nbconvert_exporter": "python",
   "pygments_lexer": "ipython3",
   "version": "3.9.7"
  }
 },
 "nbformat": 4,
 "nbformat_minor": 5
}
