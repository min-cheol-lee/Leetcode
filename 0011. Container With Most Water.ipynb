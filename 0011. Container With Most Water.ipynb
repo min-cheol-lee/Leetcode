{
 "cells": [
  {
   "cell_type": "markdown",
   "id": "c17cb990",
   "metadata": {},
   "source": [
    "The following code cannot be accepted due to its running time of $O(N^2)$."
   ]
  },
  {
   "cell_type": "code",
   "execution_count": 3,
   "id": "48e138e4",
   "metadata": {},
   "outputs": [],
   "source": [
    "class Solution:\n",
    "    def maxArea(height) -> int:\n",
    "        \n",
    "        area_max = 0\n",
    "        \n",
    "        for i,h1 in enumerate(height):\n",
    "            for j, h2 in enumerate(height):\n",
    "                s = (j-i)*min(h1,h2)\n",
    "                if s > area_max: area_max = s \n",
    "        \n",
    "        return area_max"
   ]
  },
  {
   "cell_type": "markdown",
   "id": "5346c386",
   "metadata": {},
   "source": [
    "There is a genius way to reduce the running time down to $O(N)$, by scanning the `height` from the both ends of the array:"
   ]
  },
  {
   "cell_type": "code",
   "execution_count": 4,
   "id": "dbd9b825",
   "metadata": {},
   "outputs": [],
   "source": [
    "class Solution:\n",
    "    def maxArea(self, height):\n",
    "        i, j = 0, len(height) - 1\n",
    "        water = 0\n",
    "        while i < j:\n",
    "            water = max(water, (j - i) * min(height[i], height[j]))\n",
    "            if height[i] < height[j]:\n",
    "                i += 1\n",
    "            else:\n",
    "                j -= 1\n",
    "        return water      "
   ]
  }
 ],
 "metadata": {
  "kernelspec": {
   "display_name": "Python 3 (ipykernel)",
   "language": "python",
   "name": "python3"
  },
  "language_info": {
   "codemirror_mode": {
    "name": "ipython",
    "version": 3
   },
   "file_extension": ".py",
   "mimetype": "text/x-python",
   "name": "python",
   "nbconvert_exporter": "python",
   "pygments_lexer": "ipython3",
   "version": "3.9.7"
  }
 },
 "nbformat": 4,
 "nbformat_minor": 5
}
