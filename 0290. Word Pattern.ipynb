{
 "cells": [
  {
   "cell_type": "markdown",
   "id": "d1bbb378",
   "metadata": {},
   "source": [
    "The following code is written by myself, but works very slow (> 200 ms) taking a lot of memories (> 30 MB)."
   ]
  },
  {
   "cell_type": "code",
   "execution_count": 1,
   "id": "cf1e30a0",
   "metadata": {},
   "outputs": [],
   "source": [
    "import numpy as np\n",
    "class Solution:\n",
    "    def wordPattern(self, pattern: str, s: str) -> bool:\n",
    "        s = s.split()\n",
    "        \n",
    "        while len(s)>0:\n",
    "            if len(s)!=len(pattern): # This part is for filtering out the case like [pattern = \"aaaa\", s = \"dog cat cat dog\"]\n",
    "                return False\n",
    "\n",
    "            ind = [i for i in range(len(s)) if s[i] == s[0]]\n",
    "            p = [pattern[i] for i in ind]\n",
    "            \n",
    "            if all(p_i == p[0] for p_i in p):\n",
    "                s = np.delete(s,ind)\n",
    "                pattern = pattern.replace(pattern[0],'')\n",
    "                continue\n",
    "            else:\n",
    "                return False\n",
    "        return True\n",
    "        "
   ]
  },
  {
   "cell_type": "markdown",
   "id": "829059c5",
   "metadata": {},
   "source": [
    "I found below on among the accepted codes, working faster (< 60 ms) and taking fewer memories (< 15 MB)"
   ]
  },
  {
   "cell_type": "code",
   "execution_count": 2,
   "id": "dbda35bf",
   "metadata": {},
   "outputs": [],
   "source": [
    "class Solution:\n",
    "    def wordPattern(self, pattern: str, s: str) -> bool:\n",
    "        s = s.split(' ')\n",
    "        d = {}\n",
    "        if len(s) != len(pattern):\n",
    "            return False\n",
    "        for i in range(len(pattern)):\n",
    "            if pattern[i] in d.keys():\n",
    "                if s[i] != d[pattern[i]]:\n",
    "                    return False\n",
    "            else:\n",
    "                if s[i] in d.values():\n",
    "                    return False\n",
    "                d[pattern[i]] = s[i]\n",
    "        return True"
   ]
  },
  {
   "cell_type": "markdown",
   "id": "85701e69",
   "metadata": {},
   "source": [
    "See the codes from genius StefanPochmann below (https://leetcode.com/problems/word-pattern/discuss/73433/Short-in-Python):"
   ]
  },
  {
   "cell_type": "code",
   "execution_count": null,
   "id": "814d26e5",
   "metadata": {},
   "outputs": [],
   "source": [
    "def wordPattern(self, pattern, s):\n",
    "    p = pattern\n",
    "    s = s.split()\n",
    "    return map(s.find, s) == map(p.index, p)\n",
    "\n",
    "#Improved version also from there:\n",
    "\n",
    "def wordPattern(self, pattern, s):\n",
    "    f = lambda q: map({}.setdefault, q, range(len(q)))\n",
    "    return f(pattern) == f(s.split())\n",
    "\n",
    "#From here:\n",
    "\n",
    "def wordPattern(self, pattern, s):\n",
    "    p = pattern\n",
    "    s = s.split()\n",
    "    return len(set(zip(s, p))) == len(set(s)) == len(set(p)) and len(s) == len(p)"
   ]
  }
 ],
 "metadata": {
  "kernelspec": {
   "display_name": "Python 3 (ipykernel)",
   "language": "python",
   "name": "python3"
  },
  "language_info": {
   "codemirror_mode": {
    "name": "ipython",
    "version": 3
   },
   "file_extension": ".py",
   "mimetype": "text/x-python",
   "name": "python",
   "nbconvert_exporter": "python",
   "pygments_lexer": "ipython3",
   "version": "3.9.7"
  }
 },
 "nbformat": 4,
 "nbformat_minor": 5
}
