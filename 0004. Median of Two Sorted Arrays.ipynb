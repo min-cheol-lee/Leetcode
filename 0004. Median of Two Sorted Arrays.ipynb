{
 "cells": [
  {
   "cell_type": "code",
   "execution_count": null,
   "id": "dbbe4fb1",
   "metadata": {},
   "outputs": [],
   "source": [
    "class Solution:\n",
    "    def findMedianSortedArrays(self, nums1: List[int], nums2: List[int]) -> float:\n",
    "        c_num = nums1+nums2\n",
    "        c_num.sort()\n",
    "        N = len(c_num)\n",
    "        if N % 2 == 0:\n",
    "            left = c_num[N//2-1]\n",
    "            right = c_num[N//2]\n",
    "            median = float(left+right)/2\n",
    "        else:\n",
    "            median = float(c_num[N//2])\n",
    "        return median\n",
    "                \n",
    "        "
   ]
  }
 ],
 "metadata": {
  "kernelspec": {
   "display_name": "Python 3 (ipykernel)",
   "language": "python",
   "name": "python3"
  },
  "language_info": {
   "codemirror_mode": {
    "name": "ipython",
    "version": 3
   },
   "file_extension": ".py",
   "mimetype": "text/x-python",
   "name": "python",
   "nbconvert_exporter": "python",
   "pygments_lexer": "ipython3",
   "version": "3.9.7"
  }
 },
 "nbformat": 4,
 "nbformat_minor": 5
}
