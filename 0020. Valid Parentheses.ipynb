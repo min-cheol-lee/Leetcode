{
 "cells": [
  {
   "cell_type": "code",
   "execution_count": null,
   "id": "4a57340e",
   "metadata": {},
   "outputs": [],
   "source": [
    "\n",
    "class Solution:\n",
    "    def isValid(self, s: str) -> bool:\n",
    "\n",
    "        p1 = \"()\"\n",
    "        p2 = \"{}\"\n",
    "        p3 = \"[]\"\n",
    "        while p1 in s or p2 in s or p3 in s:\n",
    "            if p1 in s:\n",
    "                s = s.replace(p1,\"\")\n",
    "            elif p2 in s:\n",
    "                s = s.replace(p2,\"\")\n",
    "            elif p3 in s:\n",
    "                s = s.replace(p3,\"\")\n",
    "\n",
    "        if s==\"\":\n",
    "            return True\n",
    "        else:\n",
    "            return False\n",
    "        \n",
    "\"\"\"\n",
    "\n",
    "class Solution:\n",
    "    def isValid(self, s: str) -> bool:\n",
    "        stack = []\n",
    "        dic = {')':'(', ']':'[', '}':'{'}\n",
    "        for c in s:\n",
    "            if c in dic.values():\n",
    "                stack.append(c)\n",
    "            elif c in dic.keys():\n",
    "                if len(stack) == 0 or stack.pop() != dic[c]:\n",
    "                    return False\n",
    "        return stack == []\n",
    "\n",
    "\"\"\"\n",
    "\n"
   ]
  }
 ],
 "metadata": {
  "kernelspec": {
   "display_name": "Python 3 (ipykernel)",
   "language": "python",
   "name": "python3"
  },
  "language_info": {
   "codemirror_mode": {
    "name": "ipython",
    "version": 3
   },
   "file_extension": ".py",
   "mimetype": "text/x-python",
   "name": "python",
   "nbconvert_exporter": "python",
   "pygments_lexer": "ipython3",
   "version": "3.9.7"
  }
 },
 "nbformat": 4,
 "nbformat_minor": 5
}
