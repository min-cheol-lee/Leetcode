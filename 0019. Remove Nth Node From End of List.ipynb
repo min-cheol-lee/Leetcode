{
 "cells": [
  {
   "cell_type": "code",
   "execution_count": null,
   "id": "03af958f",
   "metadata": {},
   "outputs": [],
   "source": [
    "class Solution:\n",
    "    def removeNthFromEnd(self, head: Optional[ListNode], n: int) -> bool:\n",
    "\n",
    "        fast, slow = head, head\n",
    "        for _ in range(n): fast = fast.next\n",
    "        if not fast: return head.next\n",
    "        while fast.next: fast, slow = fast.next, slow.next\n",
    "        slow.next = slow.next.next\n",
    "        return head      "
   ]
  }
 ],
 "metadata": {
  "kernelspec": {
   "display_name": "Python 3 (ipykernel)",
   "language": "python",
   "name": "python3"
  },
  "language_info": {
   "codemirror_mode": {
    "name": "ipython",
    "version": 3
   },
   "file_extension": ".py",
   "mimetype": "text/x-python",
   "name": "python",
   "nbconvert_exporter": "python",
   "pygments_lexer": "ipython3",
   "version": "3.9.7"
  }
 },
 "nbformat": 4,
 "nbformat_minor": 5
}
