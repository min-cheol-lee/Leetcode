{
 "cells": [
  {
   "cell_type": "markdown",
   "id": "486afde7",
   "metadata": {},
   "source": [
    "test a code to find intersecting elements in two arrays:"
   ]
  },
  {
   "cell_type": "code",
   "execution_count": 11,
   "id": "696c854f",
   "metadata": {},
   "outputs": [
    {
     "data": {
      "text/plain": [
       "[1, 3, 5]"
      ]
     },
     "execution_count": 11,
     "metadata": {},
     "output_type": "execute_result"
    }
   ],
   "source": [
    "a = [1,2,3,4,5]\n",
    "b = [1,3,5,6]\n",
    "c = list(set(a) & set(b))\n",
    "c"
   ]
  },
  {
   "cell_type": "markdown",
   "id": "5e7941b3",
   "metadata": {},
   "source": [
    "check the example of `Input: nums = [3,1,4,1,5], k = 2`, resulting in `Output: 2`:"
   ]
  },
  {
   "cell_type": "code",
   "execution_count": 22,
   "id": "c88c3039",
   "metadata": {},
   "outputs": [
    {
     "data": {
      "text/plain": [
       "2"
      ]
     },
     "execution_count": 22,
     "metadata": {},
     "output_type": "execute_result"
    }
   ],
   "source": [
    "import numpy as np\n",
    "\n",
    "nums = [3,1,4,1,5]\n",
    "np_nums = np.array(nums)\n",
    "k = 2\n",
    "np_nums_add = np_nums+k\n",
    "\n",
    "intersect = list(set(np_nums_add) & set(np_nums))\n",
    "res = len(intersect)\n",
    "res"
   ]
  },
  {
   "cell_type": "markdown",
   "id": "e73ee56a",
   "metadata": {},
   "source": [
    "With `k=0`, the code above does not work. Add up for this exceptional case:"
   ]
  },
  {
   "cell_type": "code",
   "execution_count": 25,
   "id": "9ce3bf12",
   "metadata": {},
   "outputs": [
    {
     "data": {
      "text/plain": [
       "1"
      ]
     },
     "execution_count": 25,
     "metadata": {},
     "output_type": "execute_result"
    }
   ],
   "source": [
    "k = 0\n",
    "nums = [1,3,1,4,5]\n",
    "snums = set(nums)\n",
    "res = len(nums)-len(snums)\n",
    "res"
   ]
  },
  {
   "cell_type": "markdown",
   "id": "4d7cce91",
   "metadata": {},
   "source": [
    "Still the code does not work for cases like `nums=[1,1,1,2,2,3,4], k=0`. Use the code as follows:"
   ]
  },
  {
   "cell_type": "code",
   "execution_count": 53,
   "id": "6747f0a9",
   "metadata": {},
   "outputs": [
    {
     "data": {
      "text/plain": [
       "2"
      ]
     },
     "execution_count": 53,
     "metadata": {},
     "output_type": "execute_result"
    }
   ],
   "source": [
    "k = 0\n",
    "nums = [1,1,1,2,2,3,4]\n",
    "snums = list(set(nums))\n",
    "for x in snums:\n",
    "  nums.remove(x)\n",
    "len(set(nums))"
   ]
  },
  {
   "cell_type": "markdown",
   "id": "e40e2f8b",
   "metadata": {},
   "source": [
    "Here is the final code, but very slow (>300 ms):"
   ]
  },
  {
   "cell_type": "code",
   "execution_count": null,
   "id": "29073eb7",
   "metadata": {},
   "outputs": [],
   "source": [
    "import numpy as np\n",
    "class Solution:\n",
    "    def findPairs(self, nums: List[int], k: int) -> int:\n",
    "        np_nums = np.array(nums)\n",
    "        if k==0:\n",
    "            for x in list(set(nums)):\n",
    "                nums.remove(x) \n",
    "            return len(set(nums))\n",
    "        else:\n",
    "            return len(list(set(np_nums + k) & set(np_nums)))\n"
   ]
  },
  {
   "cell_type": "markdown",
   "id": "c72ba0a9",
   "metadata": {},
   "source": [
    "Another code using `Counter` method from `collection`:"
   ]
  },
  {
   "cell_type": "code",
   "execution_count": null,
   "id": "73389f05",
   "metadata": {},
   "outputs": [],
   "source": [
    "from collections import Counter\n",
    "class Solution:\n",
    "    def findPairs(self, nums: List[int], k: int) -> int:\n",
    "        # Use Counter \n",
    "        # O(n) , O(n)\n",
    "        \n",
    "        count = 0\n",
    "        \n",
    "        diction = Counter(nums)\n",
    "        \n",
    "        if k == 0: # then is value >1 means have duplicate then, count += 1\n",
    "            for du in diction.values():\n",
    "                if du > 1:\n",
    "                    count += 1\n",
    "            # print(diction)\n",
    "        else:\n",
    "            for key in diction.keys():\n",
    "                if key+k in diction:\n",
    "                    count += 1\n",
    "        return count\n",
    "    "
   ]
  }
 ],
 "metadata": {
  "kernelspec": {
   "display_name": "Python 3 (ipykernel)",
   "language": "python",
   "name": "python3"
  },
  "language_info": {
   "codemirror_mode": {
    "name": "ipython",
    "version": 3
   },
   "file_extension": ".py",
   "mimetype": "text/x-python",
   "name": "python",
   "nbconvert_exporter": "python",
   "pygments_lexer": "ipython3",
   "version": "3.9.7"
  }
 },
 "nbformat": 4,
 "nbformat_minor": 5
}
