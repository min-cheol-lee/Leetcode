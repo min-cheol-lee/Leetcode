{
 "cells": [
  {
   "cell_type": "markdown",
   "id": "160b9a3c",
   "metadata": {},
   "source": [
    "Now a great code written by myself with running time > 150 ms:"
   ]
  },
  {
   "cell_type": "code",
   "execution_count": null,
   "id": "c33e322d",
   "metadata": {},
   "outputs": [],
   "source": [
    "class Solution:\n",
    "    def canPlaceFlowers(self, flowerbed: List[int], n: int) -> bool:\n",
    "        cnt = 0\n",
    "        i = 0\n",
    "        f = flowerbed\n",
    "        nl = len(f)\n",
    "        \n",
    "        if n > int((len(f)+1)/2):\n",
    "            return False\n",
    "         \n",
    "        if nl==0:\n",
    "            if n==0: return True\n",
    "            else: return False\n",
    "        if nl==1:\n",
    "            if n==0: return True\n",
    "            elif n==1 and f[0]==0: return True\n",
    "            else: return False\n",
    "        if f[0]==f[1]==0:\n",
    "            cnt+=1\n",
    "            f[0]=1\n",
    "        if f[nl-2]==f[nl-1]==0:\n",
    "            cnt+=1\n",
    "            f[nl-1]=0\n",
    "            \n",
    "        if cnt>=n:\n",
    "            return True\n",
    "        \n",
    "        while i < len(flowerbed)-2:\n",
    "            if f[i]==f[i+1]==f[i+2]==0:\n",
    "                f[i+1]=1\n",
    "                cnt += 1\n",
    "            i += 1\n",
    "            \n",
    "            if cnt>=n:\n",
    "                return True\n",
    "        return False"
   ]
  },
  {
   "cell_type": "markdown",
   "id": "49206409",
   "metadata": {},
   "source": [
    "Shorter code example from https://leetcode.com/problems/can-place-flowers/discuss/103890/Python-Straightforward-with-Explanation:"
   ]
  },
  {
   "cell_type": "code",
   "execution_count": null,
   "id": "f011568e",
   "metadata": {},
   "outputs": [],
   "source": [
    "class Solution:\n",
    "    def canPlaceFlowers(self, A, N):\n",
    "        for i, x in enumerate(A):\n",
    "            if (not x and (i == 0 or A[i-1] == 0) \n",
    "                    and (i == len(A)-1 or A[i+1] == 0)):\n",
    "                N -= 1\n",
    "                A[i] = 1\n",
    "        return N <= 0                "
   ]
  }
 ],
 "metadata": {
  "kernelspec": {
   "display_name": "Python 3 (ipykernel)",
   "language": "python",
   "name": "python3"
  },
  "language_info": {
   "codemirror_mode": {
    "name": "ipython",
    "version": 3
   },
   "file_extension": ".py",
   "mimetype": "text/x-python",
   "name": "python",
   "nbconvert_exporter": "python",
   "pygments_lexer": "ipython3",
   "version": "3.9.7"
  }
 },
 "nbformat": 4,
 "nbformat_minor": 5
}
