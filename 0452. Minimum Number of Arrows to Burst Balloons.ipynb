{
 "cells": [
  {
   "cell_type": "code",
   "execution_count": 34,
   "id": "806ca7ba",
   "metadata": {},
   "outputs": [],
   "source": [
    "class Solution:\n",
    "    def findMinArrowShots(self, points: List[List[int]]) -> int:\n",
    "        points.sort(key=lambda x: x[1])\n",
    "        n, arrow = 0, 0\n",
    "        for [i,j] in points:\n",
    "            if n == 0 or i > arrow:\n",
    "                n, arrow = n+1, j\n",
    "        return n"
   ]
  }
 ],
 "metadata": {
  "kernelspec": {
   "display_name": "Python 3 (ipykernel)",
   "language": "python",
   "name": "python3"
  },
  "language_info": {
   "codemirror_mode": {
    "name": "ipython",
    "version": 3
   },
   "file_extension": ".py",
   "mimetype": "text/x-python",
   "name": "python",
   "nbconvert_exporter": "python",
   "pygments_lexer": "ipython3",
   "version": "3.9.7"
  }
 },
 "nbformat": 4,
 "nbformat_minor": 5
}
