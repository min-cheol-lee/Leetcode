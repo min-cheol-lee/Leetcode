{
 "cells": [
  {
   "cell_type": "code",
   "execution_count": null,
   "id": "d51d1912",
   "metadata": {},
   "outputs": [],
   "source": [
    "\"\"\"\n",
    "class Solution:\n",
    "    def reverse(self, x: int) -> int:\n",
    "        inix = x\n",
    "        if x<0:\n",
    "            x*=(-1)\n",
    "        inv_x_array = list(map(int,str(x)))\n",
    "        lenX = len(inv_x_array)\n",
    "        invx = 0\n",
    "        for i in range(lenX):\n",
    "            invx += 10**i * inv_x_array[i]\n",
    "        if inix<0:\n",
    "            invx*=(-1)\n",
    "        if invx not in range(-2**31,2**31):\n",
    "            return 0\n",
    "        else:\n",
    "            return invx\n",
    "   \n",
    "class Solution:\n",
    "    def reverse(self, x: int) -> int:\n",
    "        result = int(str(x)[::-1]) if x > 0 else (int(str(abs(x))[::-1]) * -1)\n",
    "        return 0 if (result > 2147483647 or result < -2147483647) else result\n",
    "\"\"\"\n",
    "class Solution:\n",
    "    def reverse(self, x: int) -> int:\n",
    "        negative = False\n",
    "        if x < 0:\n",
    "            negative = True\n",
    "            x *= -1 #making it positive\n",
    "\n",
    "        reversed_num = 0\n",
    "        while x > 0:\n",
    "            reversed_num = (reversed_num * 10) + (x % 10)\n",
    "            x //= 10\n",
    "\n",
    "        if reversed_num > 2**31:\n",
    "            return 0\n",
    "\n",
    "        return int(reversed_num * -1) if negative else int(reversed_num)"
   ]
  }
 ],
 "metadata": {
  "kernelspec": {
   "display_name": "Python 3 (ipykernel)",
   "language": "python",
   "name": "python3"
  },
  "language_info": {
   "codemirror_mode": {
    "name": "ipython",
    "version": 3
   },
   "file_extension": ".py",
   "mimetype": "text/x-python",
   "name": "python",
   "nbconvert_exporter": "python",
   "pygments_lexer": "ipython3",
   "version": "3.9.7"
  }
 },
 "nbformat": 4,
 "nbformat_minor": 5
}
