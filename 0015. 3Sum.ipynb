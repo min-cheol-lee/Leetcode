{
 "cells": [
  {
   "cell_type": "code",
   "execution_count": null,
   "id": "148becc0",
   "metadata": {},
   "outputs": [],
   "source": [
    "class Solution:\n",
    "    def threeSum(self, nums: List[int]) -> List[List[int]]:\n",
    "        nums.sort()\n",
    "        N, result = len(nums), []\n",
    "        for i in range(N):\n",
    "            if i > 0 and nums[i] == nums[i-1]:\n",
    "                continue\n",
    "            target = nums[i]*-1\n",
    "            s,e = i+1, N-1\n",
    "            while s<e:\n",
    "                if nums[s]+nums[e] == target:\n",
    "                    result.append([nums[i], nums[s], nums[e]])\n",
    "                    s = s+1\n",
    "                    while s<e and nums[s] == nums[s-1]:\n",
    "                        s = s+1\n",
    "                elif nums[s] + nums[e] < target:\n",
    "                    s = s+1\n",
    "                else:\n",
    "                    e = e-1\n",
    "        return result\n",
    "     \n",
    "\"\"\"\n",
    "class Solution(object):\n",
    "    def threeSum(self, nums):\n",
    "        result = []\n",
    "        final_result = []\n",
    "        \n",
    "        nums.sort()\n",
    "        if len(nums)<3 or nums[-1]<0:\n",
    "            return []\n",
    "        \n",
    "        for i in range(len(nums)-2):\n",
    "            if i > 0 and nums[i] == nums[i-1]:\n",
    "                continue\n",
    "            hist = {}\n",
    "            target = 0 - nums[i]\n",
    "            for j in range(len(nums)-1-i):\n",
    "                ind = j+i+1\n",
    "                if target - nums[ind] in hist.values():\n",
    "                    result.append([nums[i],target-nums[ind],nums[ind]])\n",
    "                hist[ind] = nums[ind]\n",
    "        \n",
    "        for res in result:\n",
    "            res.sort()\n",
    "            if res not in final_result:\n",
    "                final_result.append(res)\n",
    "                \n",
    "        return final_result\n",
    "            \n",
    "\"\"\"        "
   ]
  }
 ],
 "metadata": {
  "kernelspec": {
   "display_name": "Python 3 (ipykernel)",
   "language": "python",
   "name": "python3"
  },
  "language_info": {
   "codemirror_mode": {
    "name": "ipython",
    "version": 3
   },
   "file_extension": ".py",
   "mimetype": "text/x-python",
   "name": "python",
   "nbconvert_exporter": "python",
   "pygments_lexer": "ipython3",
   "version": "3.9.7"
  }
 },
 "nbformat": 4,
 "nbformat_minor": 5
}
