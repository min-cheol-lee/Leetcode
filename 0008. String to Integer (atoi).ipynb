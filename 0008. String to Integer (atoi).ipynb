{
 "cells": [
  {
   "cell_type": "code",
   "execution_count": null,
   "id": "514a8cb6",
   "metadata": {},
   "outputs": [],
   "source": [
    "class Solution:\n",
    "    def myAtoi(self, s: str) -> int:\n",
    "        num = \"\"\n",
    "        sign = 1\n",
    "        count = 0\n",
    "        for letter in s:\n",
    "            \n",
    "            if count == 1 and not letter.isnumeric():\n",
    "                break\n",
    "            elif letter == \" \" and not num.isnumeric():\n",
    "                continue\n",
    "            elif not letter.isnumeric() and num.isnumeric():\n",
    "                break\n",
    "            elif letter == '-':\n",
    "                if count == 1:\n",
    "                    break\n",
    "                sign, count = -1, +1\n",
    "            elif letter == '+':\n",
    "                if count == 1:\n",
    "                    break\n",
    "                sign, count = +1, +1                                 \n",
    "            elif not letter.isnumeric() and not num.isnumeric():\n",
    "                break\n",
    "            elif letter.isnumeric():\n",
    "                num += letter      \n",
    "        if not num:\n",
    "            num = \"0\"\n",
    "        if int(num)*sign < -2**31:\n",
    "            return \"-2147483648\"\n",
    "        elif int(num)*sign > 2**31-1:\n",
    "            return \"2147483647\"\n",
    "        else:\n",
    "            return int(num)*sign\n",
    "        "
   ]
  }
 ],
 "metadata": {
  "kernelspec": {
   "display_name": "Python 3 (ipykernel)",
   "language": "python",
   "name": "python3"
  },
  "language_info": {
   "codemirror_mode": {
    "name": "ipython",
    "version": 3
   },
   "file_extension": ".py",
   "mimetype": "text/x-python",
   "name": "python",
   "nbconvert_exporter": "python",
   "pygments_lexer": "ipython3",
   "version": "3.9.7"
  }
 },
 "nbformat": 4,
 "nbformat_minor": 5
}
