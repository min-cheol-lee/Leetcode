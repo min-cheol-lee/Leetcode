{
 "cells": [
  {
   "cell_type": "markdown",
   "id": "16fa5495",
   "metadata": {},
   "source": [
    "Here is my code, and `b` is for the cases that `seat[0]=0`, and I also made a `elif` for the case that `seat[-1]=0`. "
   ]
  },
  {
   "cell_type": "code",
   "execution_count": null,
   "id": "56ba3e11",
   "metadata": {},
   "outputs": [],
   "source": [
    "class Solution:\n",
    "    def maxDistToClosest(self, seats: List[int]) -> int:\n",
    "        cnt = 0\n",
    "        m = 0\n",
    "        b = 0\n",
    "        for i,s in enumerate(seats):\n",
    "            if s==0:\n",
    "                cnt+=1\n",
    "                if i==0:\n",
    "                    b=1\n",
    "                elif i==len(seats)-1:\n",
    "                    m = max(m,cnt*2-1)\n",
    "            else:\n",
    "                if b==1: m, b = cnt*2-1, 0\n",
    "                else: m = max(m,cnt)\n",
    "                cnt = 0        \n",
    "        return int((m+1)/2)"
   ]
  }
 ],
 "metadata": {
  "kernelspec": {
   "display_name": "Python 3 (ipykernel)",
   "language": "python",
   "name": "python3"
  },
  "language_info": {
   "codemirror_mode": {
    "name": "ipython",
    "version": 3
   },
   "file_extension": ".py",
   "mimetype": "text/x-python",
   "name": "python",
   "nbconvert_exporter": "python",
   "pygments_lexer": "ipython3",
   "version": "3.9.7"
  }
 },
 "nbformat": 4,
 "nbformat_minor": 5
}
