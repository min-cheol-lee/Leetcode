{
 "cells": [
  {
   "cell_type": "code",
   "execution_count": 1,
   "id": "bc6302fa",
   "metadata": {},
   "outputs": [
    {
     "data": {
      "text/plain": [
       "('()()', 2, 2)"
      ]
     },
     "execution_count": 1,
     "metadata": {},
     "output_type": "execute_result"
    }
   ],
   "source": [
    "s = [(\"(\", 1, 0), (\"()\", 2, 0), (\"()()\", 2,2)]\n",
    "s.pop()\n"
   ]
  },
  {
   "cell_type": "code",
   "execution_count": 2,
   "id": "3567f506",
   "metadata": {},
   "outputs": [
    {
     "data": {
      "text/plain": [
       "('()', 2, 0)"
      ]
     },
     "execution_count": 2,
     "metadata": {},
     "output_type": "execute_result"
    }
   ],
   "source": [
    "s.pop()"
   ]
  },
  {
   "cell_type": "code",
   "execution_count": 3,
   "id": "cab6876b",
   "metadata": {},
   "outputs": [
    {
     "data": {
      "text/plain": [
       "[('(', 1, 0)]"
      ]
     },
     "execution_count": 3,
     "metadata": {},
     "output_type": "execute_result"
    }
   ],
   "source": [
    "s"
   ]
  },
  {
   "cell_type": "code",
   "execution_count": null,
   "id": "25f5f40a",
   "metadata": {},
   "outputs": [],
   "source": []
  }
 ],
 "metadata": {
  "kernelspec": {
   "display_name": "Python 3 (ipykernel)",
   "language": "python",
   "name": "python3"
  },
  "language_info": {
   "codemirror_mode": {
    "name": "ipython",
    "version": 3
   },
   "file_extension": ".py",
   "mimetype": "text/x-python",
   "name": "python",
   "nbconvert_exporter": "python",
   "pygments_lexer": "ipython3",
   "version": "3.9.7"
  }
 },
 "nbformat": 4,
 "nbformat_minor": 5
}
