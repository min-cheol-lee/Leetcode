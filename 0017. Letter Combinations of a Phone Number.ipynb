{
 "cells": [
  {
   "cell_type": "code",
   "execution_count": 37,
   "id": "c5ed79c5",
   "metadata": {},
   "outputs": [],
   "source": [
    "\n",
    "    def letterCombinations(digits: str):\n",
    "        dict = {'2':\"abc\", '3':\"def\", '4':\"ghi\", '5':\"jkl\", '6':\"mno\", '7': \"pqrs\",'8':\"tuv\", '9':\"wxyz\"}\n",
    "        cmb = [''] if digits else []\n",
    "        for d in digits:\n",
    "            cmb = [p + q for p in cmb for q in dict[d]]\n",
    "        return cmb\n",
    "        \n"
   ]
  },
  {
   "cell_type": "code",
   "execution_count": 49,
   "id": "0af6cd61",
   "metadata": {},
   "outputs": [
    {
     "data": {
      "text/plain": [
       "[0, 1, 2]"
      ]
     },
     "execution_count": 49,
     "metadata": {},
     "output_type": "execute_result"
    }
   ],
   "source": [
    "a1 = ['abc','def','ghi']\n",
    "a2 = ['ABC','DEF','GHI']\n",
    "result = ['']\n",
    "for i in range(3):\n",
    "    result = [p for p in range(3)]\n",
    "    #result = [p + q for p in result for q in a1[i]]\n",
    "result\n",
    "    "
   ]
  },
  {
   "cell_type": "code",
   "execution_count": 47,
   "id": "ee494b5e",
   "metadata": {},
   "outputs": [],
   "source": [
    "#letterCombinations('234')"
   ]
  },
  {
   "cell_type": "code",
   "execution_count": null,
   "id": "af436e2a",
   "metadata": {},
   "outputs": [],
   "source": []
  },
  {
   "cell_type": "code",
   "execution_count": null,
   "id": "639d67bb",
   "metadata": {},
   "outputs": [],
   "source": []
  },
  {
   "cell_type": "code",
   "execution_count": null,
   "id": "9197efb1",
   "metadata": {},
   "outputs": [],
   "source": []
  },
  {
   "cell_type": "code",
   "execution_count": null,
   "id": "8bbef0fd",
   "metadata": {},
   "outputs": [],
   "source": []
  }
 ],
 "metadata": {
  "kernelspec": {
   "display_name": "Python 3 (ipykernel)",
   "language": "python",
   "name": "python3"
  },
  "language_info": {
   "codemirror_mode": {
    "name": "ipython",
    "version": 3
   },
   "file_extension": ".py",
   "mimetype": "text/x-python",
   "name": "python",
   "nbconvert_exporter": "python",
   "pygments_lexer": "ipython3",
   "version": "3.9.7"
  }
 },
 "nbformat": 4,
 "nbformat_minor": 5
}
